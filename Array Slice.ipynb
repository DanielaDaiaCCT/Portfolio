{
 "cells": [
  {
   "cell_type": "code",
   "execution_count": 125,
   "id": "aeee628b",
   "metadata": {},
   "outputs": [],
   "source": [
    "import numpy as np\n",
    "from pandas import read_csv\n",
    "from numpy import array\n",
    "from numpy import reshape"
   ]
  },
  {
   "cell_type": "code",
   "execution_count": 126,
   "id": "44ee573f",
   "metadata": {},
   "outputs": [],
   "source": [
    "data = [11,22,33,44,55]"
   ]
  },
  {
   "cell_type": "code",
   "execution_count": 127,
   "id": "466d60c7",
   "metadata": {},
   "outputs": [
    {
     "data": {
      "text/plain": [
       "list"
      ]
     },
     "execution_count": 127,
     "metadata": {},
     "output_type": "execute_result"
    }
   ],
   "source": [
    "type(data)\n"
   ]
  },
  {
   "cell_type": "code",
   "execution_count": 128,
   "id": "b4bde2d5",
   "metadata": {},
   "outputs": [],
   "source": [
    "# array is a collection of similar data elements stored at contiguous memory locations.\n"
   ]
  },
  {
   "cell_type": "code",
   "execution_count": 129,
   "id": "b424f00f",
   "metadata": {},
   "outputs": [
    {
     "data": {
      "text/plain": [
       "array([11, 22, 33, 44, 55])"
      ]
     },
     "execution_count": 129,
     "metadata": {},
     "output_type": "execute_result"
    }
   ],
   "source": [
    "np.array(data)"
   ]
  },
  {
   "cell_type": "code",
   "execution_count": 130,
   "id": "20220a4b",
   "metadata": {},
   "outputs": [
    {
     "data": {
      "text/plain": [
       "list"
      ]
     },
     "execution_count": 130,
     "metadata": {},
     "output_type": "execute_result"
    }
   ],
   "source": [
    "type (data)"
   ]
  },
  {
   "cell_type": "code",
   "execution_count": 131,
   "id": "f8cac846",
   "metadata": {},
   "outputs": [],
   "source": [
    "data = np.array(data)"
   ]
  },
  {
   "cell_type": "code",
   "execution_count": 132,
   "id": "6bd04c42",
   "metadata": {},
   "outputs": [
    {
     "data": {
      "text/plain": [
       "numpy.ndarray"
      ]
     },
     "execution_count": 132,
     "metadata": {},
     "output_type": "execute_result"
    }
   ],
   "source": [
    "type(data)"
   ]
  },
  {
   "cell_type": "code",
   "execution_count": 133,
   "id": "8f9150b5",
   "metadata": {},
   "outputs": [
    {
     "name": "stdout",
     "output_type": "stream",
     "text": [
      "[11 22 33 44 55]\n"
     ]
    }
   ],
   "source": [
    "print(data)"
   ]
  },
  {
   "cell_type": "code",
   "execution_count": 134,
   "id": "3b889c57",
   "metadata": {},
   "outputs": [],
   "source": [
    "# one dimension array - list of an array of value ( not colum not row) is a collection of things\n",
    "\n",
    "#  two dimentions would have colum and rowms"
   ]
  },
  {
   "cell_type": "code",
   "execution_count": 135,
   "id": "ff5e9d46",
   "metadata": {},
   "outputs": [],
   "source": [
    "data2D = [[11,22], [33,34], [55,56]]"
   ]
  },
  {
   "cell_type": "code",
   "execution_count": 136,
   "id": "351d77a3",
   "metadata": {},
   "outputs": [
    {
     "name": "stdout",
     "output_type": "stream",
     "text": [
      "[[11, 22], [33, 34], [55, 56]]\n"
     ]
    }
   ],
   "source": [
    "print(data2D)"
   ]
  },
  {
   "cell_type": "code",
   "execution_count": 137,
   "id": "ac60a78d",
   "metadata": {},
   "outputs": [
    {
     "data": {
      "text/plain": [
       "list"
      ]
     },
     "execution_count": 137,
     "metadata": {},
     "output_type": "execute_result"
    }
   ],
   "source": [
    "type(data2D)"
   ]
  },
  {
   "cell_type": "code",
   "execution_count": 138,
   "id": "ca4f2616",
   "metadata": {},
   "outputs": [],
   "source": [
    "data2D = np.array(data2D)\n"
   ]
  },
  {
   "cell_type": "code",
   "execution_count": 139,
   "id": "64a270bd",
   "metadata": {},
   "outputs": [
    {
     "name": "stdout",
     "output_type": "stream",
     "text": [
      "[[11 22]\n",
      " [33 34]\n",
      " [55 56]]\n"
     ]
    }
   ],
   "source": [
    "print(data2D)"
   ]
  },
  {
   "cell_type": "code",
   "execution_count": 140,
   "id": "4f360674",
   "metadata": {},
   "outputs": [
    {
     "data": {
      "text/plain": [
       "array([11, 22, 33, 44, 55])"
      ]
     },
     "execution_count": 140,
     "metadata": {},
     "output_type": "execute_result"
    }
   ],
   "source": [
    "data"
   ]
  },
  {
   "cell_type": "code",
   "execution_count": 141,
   "id": "f7599dad",
   "metadata": {},
   "outputs": [
    {
     "data": {
      "text/plain": [
       "5"
      ]
     },
     "execution_count": 141,
     "metadata": {},
     "output_type": "execute_result"
    }
   ],
   "source": [
    "len(data)"
   ]
  },
  {
   "cell_type": "code",
   "execution_count": 142,
   "id": "1bdd93fd",
   "metadata": {},
   "outputs": [
    {
     "data": {
      "text/plain": [
       "11"
      ]
     },
     "execution_count": 142,
     "metadata": {},
     "output_type": "execute_result"
    }
   ],
   "source": [
    "data[0]\n",
    "# showns the first number"
   ]
  },
  {
   "cell_type": "code",
   "execution_count": 143,
   "id": "30a6f71f",
   "metadata": {},
   "outputs": [
    {
     "data": {
      "text/plain": [
       "55"
      ]
     },
     "execution_count": 143,
     "metadata": {},
     "output_type": "execute_result"
    }
   ],
   "source": [
    "data[4]\n",
    "# showns the last number\n",
    "# we also can use [-1] to find the last number."
   ]
  },
  {
   "cell_type": "code",
   "execution_count": 144,
   "id": "a39c42d6",
   "metadata": {},
   "outputs": [
    {
     "data": {
      "text/plain": [
       "array([11, 22, 33])"
      ]
     },
     "execution_count": 144,
     "metadata": {},
     "output_type": "execute_result"
    }
   ],
   "source": [
    "data[0:3]"
   ]
  },
  {
   "cell_type": "code",
   "execution_count": 145,
   "id": "cbb51227",
   "metadata": {},
   "outputs": [],
   "source": [
    "dataB = np.array([11,22,33,44,55,66,77,88,99])"
   ]
  },
  {
   "cell_type": "code",
   "execution_count": 146,
   "id": "0dc5b275",
   "metadata": {},
   "outputs": [
    {
     "data": {
      "text/plain": [
       "array([22, 33, 44, 55])"
      ]
     },
     "execution_count": 146,
     "metadata": {},
     "output_type": "execute_result"
    }
   ],
   "source": [
    "dataB[1:5]"
   ]
  },
  {
   "cell_type": "code",
   "execution_count": 147,
   "id": "20d749a7",
   "metadata": {},
   "outputs": [
    {
     "data": {
      "text/plain": [
       "array([22, 33, 44, 55, 66, 77, 88, 99])"
      ]
     },
     "execution_count": 147,
     "metadata": {},
     "output_type": "execute_result"
    }
   ],
   "source": [
    "dataB[1:]"
   ]
  },
  {
   "cell_type": "code",
   "execution_count": 148,
   "id": "49df6f30",
   "metadata": {},
   "outputs": [
    {
     "data": {
      "text/plain": [
       "array([11, 22, 33, 44, 55])"
      ]
     },
     "execution_count": 148,
     "metadata": {},
     "output_type": "execute_result"
    }
   ],
   "source": [
    "dataB[ :5]\n"
   ]
  },
  {
   "cell_type": "code",
   "execution_count": 149,
   "id": "759cdaad",
   "metadata": {},
   "outputs": [
    {
     "data": {
      "text/plain": [
       "22"
      ]
     },
     "execution_count": 149,
     "metadata": {},
     "output_type": "execute_result"
    }
   ],
   "source": [
    "data2D[0,1]"
   ]
  },
  {
   "cell_type": "code",
   "execution_count": 150,
   "id": "66a35e4f",
   "metadata": {},
   "outputs": [
    {
     "data": {
      "text/plain": [
       "array([22, 34, 56])"
      ]
     },
     "execution_count": 150,
     "metadata": {},
     "output_type": "execute_result"
    }
   ],
   "source": [
    "data2D[ : ,1]"
   ]
  },
  {
   "cell_type": "code",
   "execution_count": 151,
   "id": "a44f0029",
   "metadata": {},
   "outputs": [
    {
     "data": {
      "text/plain": [
       "array([11, 33, 55])"
      ]
     },
     "execution_count": 151,
     "metadata": {},
     "output_type": "execute_result"
    }
   ],
   "source": [
    "# COLLUNS ARE AFTER THE COMMA\n",
    "data2D[ : , 0]"
   ]
  },
  {
   "cell_type": "code",
   "execution_count": 152,
   "id": "73655792",
   "metadata": {},
   "outputs": [
    {
     "data": {
      "text/plain": [
       "array([[11],\n",
       "       [33],\n",
       "       [55]])"
      ]
     },
     "execution_count": 152,
     "metadata": {},
     "output_type": "execute_result"
    }
   ],
   "source": [
    "data2D[ : , : -1]"
   ]
  },
  {
   "cell_type": "code",
   "execution_count": 153,
   "id": "13b83c7e",
   "metadata": {},
   "outputs": [],
   "source": [
    "X,y=data2D[:,:-1], data2D[:,-1]"
   ]
  },
  {
   "cell_type": "code",
   "execution_count": 154,
   "id": "f81dd2f8",
   "metadata": {},
   "outputs": [
    {
     "data": {
      "text/plain": [
       "array([22, 34, 56])"
      ]
     },
     "execution_count": 154,
     "metadata": {},
     "output_type": "execute_result"
    }
   ],
   "source": [
    "y"
   ]
  },
  {
   "cell_type": "code",
   "execution_count": 155,
   "id": "b2b869b2",
   "metadata": {},
   "outputs": [
    {
     "data": {
      "text/plain": [
       "array([[11],\n",
       "       [33],\n",
       "       [55]])"
      ]
     },
     "execution_count": 155,
     "metadata": {},
     "output_type": "execute_result"
    }
   ],
   "source": [
    "X"
   ]
  },
  {
   "cell_type": "code",
   "execution_count": 156,
   "id": "c9c44d69",
   "metadata": {},
   "outputs": [
    {
     "data": {
      "text/plain": [
       "array([11, 22, 33, 44, 55])"
      ]
     },
     "execution_count": 156,
     "metadata": {},
     "output_type": "execute_result"
    }
   ],
   "source": [
    "data"
   ]
  },
  {
   "cell_type": "code",
   "execution_count": 157,
   "id": "dcfebbfe",
   "metadata": {},
   "outputs": [
    {
     "data": {
      "text/plain": [
       "(5,)"
      ]
     },
     "execution_count": 157,
     "metadata": {},
     "output_type": "execute_result"
    }
   ],
   "source": [
    "data.shape\n"
   ]
  },
  {
   "cell_type": "code",
   "execution_count": 158,
   "id": "7fbf8c3c",
   "metadata": {},
   "outputs": [],
   "source": [
    "data = data.reshape((data.shape[0],1))"
   ]
  },
  {
   "cell_type": "code",
   "execution_count": 159,
   "id": "42cb35b2",
   "metadata": {},
   "outputs": [
    {
     "name": "stdout",
     "output_type": "stream",
     "text": [
      "[[11]\n",
      " [22]\n",
      " [33]\n",
      " [44]\n",
      " [55]]\n"
     ]
    }
   ],
   "source": [
    "print(data)"
   ]
  },
  {
   "cell_type": "code",
   "execution_count": 162,
   "id": "172abb37",
   "metadata": {},
   "outputs": [],
   "source": [
    "data3D=data2D.reshape((data2D.shape[0], \n",
    "                       data2D.shape[1],1))"
   ]
  },
  {
   "cell_type": "code",
   "execution_count": 163,
   "id": "5c8f95b5",
   "metadata": {},
   "outputs": [
    {
     "data": {
      "text/plain": [
       "(3, 2, 1)"
      ]
     },
     "execution_count": 163,
     "metadata": {},
     "output_type": "execute_result"
    }
   ],
   "source": [
    "data3D.shape"
   ]
  },
  {
   "cell_type": "code",
   "execution_count": null,
   "id": "2ddc3e3c",
   "metadata": {},
   "outputs": [],
   "source": []
  }
 ],
 "metadata": {
  "kernelspec": {
   "display_name": "Python 3 (ipykernel)",
   "language": "python",
   "name": "python3"
  },
  "language_info": {
   "codemirror_mode": {
    "name": "ipython",
    "version": 3
   },
   "file_extension": ".py",
   "mimetype": "text/x-python",
   "name": "python",
   "nbconvert_exporter": "python",
   "pygments_lexer": "ipython3",
   "version": "3.9.12"
  }
 },
 "nbformat": 4,
 "nbformat_minor": 5
}
